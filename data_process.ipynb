{
 "cells": [
  {
   "cell_type": "code",
   "execution_count": 89,
   "id": "4cafba38",
   "metadata": {},
   "outputs": [],
   "source": [
    "import pandas as pd\n",
    "import csv\n",
    "import matplotlib.pyplot as plt\n",
    "import seaborn as sns\n",
    "import matplotlib.ticker as ticker\n",
    "plt.style.use('ggplot')\n",
    "import matplotlib\n",
    "matplotlib.rcParams['font.sans-serif'] = ['SimHei']\n",
    "matplotlib.rcParams['axes.unicode_minus']=False"
   ]
  },
  {
   "cell_type": "code",
   "execution_count": 90,
   "id": "5b4c7d9a",
   "metadata": {},
   "outputs": [],
   "source": [
    "def rolling_mean(data, window_size):\n",
    "    return data.rolling(window=window_size).mean()"
   ]
  },
  {
   "cell_type": "code",
   "execution_count": 156,
   "id": "bb25b622",
   "metadata": {},
   "outputs": [],
   "source": [
    "# drq\n",
    "window_size = 3\n",
    "df_sac = pd.read_csv('./drq_v2/dmc_walker_stand.csv')\n",
    "for s in range(1,11):\n",
    "    df_temp = df_sac.query('seed == @s')\n",
    "    rolling_mean(df_temp['episode_reward'], window_size).to_csv('./drq_v2/seed.csv', header=False, index=False, na_rep=0, mode='a')"
   ]
  },
  {
   "cell_type": "code",
   "execution_count": 150,
   "id": "59536403",
   "metadata": {},
   "outputs": [],
   "source": [
    "# drq-human\n",
    "window_size = 3\n",
    "df_sac = pd.read_csv('./drq_human/cup-catch/seed6.csv')\n",
    "rolling_mean(df_sac['episode_reward'], window_size).to_csv('./drq_human/cup-catch/seed-smooth3.csv', header=False, index=False, na_rep=0, mode='a')"
   ]
  },
  {
   "cell_type": "code",
   "execution_count": 162,
   "id": "bf15ba29",
   "metadata": {},
   "outputs": [],
   "source": [
    "# human-sac\n",
    "window_size = 3\n",
    "df_sac = pd.read_csv('./human/walker-run/eval.csv')\n",
    "rolling_mean(df_sac['episode_reward'], window_size).to_csv('./human/walker-run/seed-smooth3.csv', header=False, index=False, na_rep=0, mode='a')"
   ]
  },
  {
   "cell_type": "code",
   "execution_count": null,
   "id": "eb38c280",
   "metadata": {},
   "outputs": [],
   "source": [
    "# sac\n",
    "window_size = 3\n",
    "df_sac = pd.read_csv('./human/walker-run/eval.csv')\n",
    "rolling_mean(df_sac['episode_reward'], window_size).to_csv('./human/walker-run/seed-smooth3.csv', header=False, index=False, na_rep=0, mode='a')"
   ]
  }
 ],
 "metadata": {
  "kernelspec": {
   "display_name": "Python [conda env:pytorchenv] *",
   "language": "python",
   "name": "conda-env-pytorchenv-py"
  },
  "language_info": {
   "codemirror_mode": {
    "name": "ipython",
    "version": 3
   },
   "file_extension": ".py",
   "mimetype": "text/x-python",
   "name": "python",
   "nbconvert_exporter": "python",
   "pygments_lexer": "ipython3",
   "version": "3.8.11"
  }
 },
 "nbformat": 4,
 "nbformat_minor": 5
}
